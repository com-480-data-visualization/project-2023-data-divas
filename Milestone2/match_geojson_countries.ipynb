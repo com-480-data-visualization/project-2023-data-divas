{
 "cells": [
  {
   "cell_type": "markdown",
   "id": "6f5d2df9-51d1-4310-87d6-e844cf3d122c",
   "metadata": {},
   "source": [
    "## Intermediate notebook\n",
    "\n",
    "### To check which country names differ between the geojson file and our csv datasets"
   ]
  },
  {
   "cell_type": "code",
   "execution_count": 1,
   "id": "d05b76f4-c586-4e94-b5f6-0015152fd415",
   "metadata": {},
   "outputs": [],
   "source": [
    "# Imports\n",
    "\n",
    "import json\n",
    "import pandas as pd"
   ]
  },
  {
   "cell_type": "code",
   "execution_count": 2,
   "id": "b115b0a0-0dc9-4ffe-b5eb-2a28676e44e6",
   "metadata": {},
   "outputs": [],
   "source": [
    "# Read the geojson file with countries and coordinates\n",
    "\n",
    "with open(\"WorldMapGeo.js\") as j:\n",
    "     contents = json.loads(j.read())\n",
    "        \n",
    "df = pd.DataFrame(contents['features'])\n",
    "df.drop(columns=['type', 'geometry'], inplace=True)\n",
    "df = pd.concat([df.drop('properties', axis=1), pd.DataFrame(df['properties'].tolist())], axis=1)\n",
    "df.head()\n",
    "\n",
    "c_json=sorted(list(df.name))"
   ]
  },
  {
   "cell_type": "code",
   "execution_count": 3,
   "id": "16a26ec1-7336-40e7-ab87-a2148a9fdaa9",
   "metadata": {},
   "outputs": [],
   "source": [
    "# Read the two csv datasets\n",
    "\n",
    "world_co2 = pd.read_csv('owid-co2-data.csv')\n",
    "sector_co2 = pd.read_csv('ghg-emissions-by-sector.csv')\n",
    "\n",
    "names_one = list(world_co2['country'].value_counts().index)\n",
    "names_two = list(sector_co2['Entity'].value_counts().index)\n",
    "common_elements = set(names_one) & set(names_two)\n",
    "\n",
    "continents_reference = ['Africa', 'Antarctica', 'Asia', 'Oceania', 'Europe', 'North America', 'South America']\n",
    "incomes_reference = ['Low-income countries', 'Lower-middle-income countries', 'Upper-middle-income countries', 'High-income countries']\n",
    "\n",
    "continents = list(set(continents_reference) & set(common_elements))\n",
    "incomes_classification = list(set(incomes_reference) & set(common_elements))\n",
    "countries = list(((set(common_elements) ^ set(continents)) ^ set(incomes_classification)) ^ set(['World', 'European Union (27)']))\n",
    "countries.sort()"
   ]
  },
  {
   "cell_type": "markdown",
   "id": "5734eea6-876b-4ee7-99cb-7a98d38f3b5a",
   "metadata": {},
   "source": [
    "### Before replacement"
   ]
  },
  {
   "cell_type": "code",
   "execution_count": 4,
   "id": "e2cf2f5f-d223-4718-bd90-bc1c912bbbc9",
   "metadata": {},
   "outputs": [
    {
     "name": "stdout",
     "output_type": "stream",
     "text": [
      "['Bahamas', 'Congo', 'Czechia', 'Democratic Republic of Congo', 'Eswatini', 'Gambia', 'Micronesia (country)', 'North Macedonia', 'Timor']\n"
     ]
    }
   ],
   "source": [
    "print(sorted(list(set(countries).difference(c_json))))"
   ]
  },
  {
   "cell_type": "code",
   "execution_count": 5,
   "id": "23e94a41-791d-4cd3-8ef0-0aa68934253d",
   "metadata": {},
   "outputs": [
    {
     "name": "stdout",
     "output_type": "stream",
     "text": [
      "['Aland Islands', 'Anguilla', 'Aruba', 'Bermuda', 'Bouvet Island', 'British Indian Ocean Territory', 'British Virgin Islands', 'Cayman Islands', 'Christmas Island', 'Cocos (Keeling) Islands', 'Czech Republic', 'Democratic Republic of the Congo', 'Falkland Islands (Islas Malvinas)', 'Faroe Islands', 'Federated States of Micronesia', 'French Guiana', 'French Polynesia', 'French Southern and Antarctic Lands', 'Gibraltar', 'Greenland', 'Guadeloupe', 'Guam', 'Guernsey', 'Heard Island and McDonald Islands', 'Holy See (Vatican City)', 'Hong Kong', 'Isle of Man', 'Jersey', 'Macau', 'Macedonia', 'Martinique', 'Mayotte', 'Monaco', 'Montserrat', 'Netherlands Antilles', 'New Caledonia', 'Norfolk Island', 'Northern Mariana Islands', 'Palestine', 'Pitcairn Islands', 'Puerto Rico', 'Republic of the Congo', 'Reunion', 'Saint Barthelemy', 'Saint Helena', 'Saint Martin', 'Saint Pierre and Miquelon', 'San Marino', 'South Georgia South Sandwich Islands', 'Svalbard', 'Swaziland', 'Taiwan', 'The Bahamas', 'The Gambia', 'Timor-Leste', 'Tokelau', 'Turks and Caicos Islands', 'Virgin Islands', 'Wallis and Futuna', 'Western Sahara']\n"
     ]
    }
   ],
   "source": [
    "print(sorted(list(set(c_json).difference(countries))))"
   ]
  },
  {
   "cell_type": "markdown",
   "id": "e54a5480-e0d4-4ac2-81cd-762dbb2b9f6a",
   "metadata": {},
   "source": [
    "### Replacements"
   ]
  },
  {
   "cell_type": "code",
   "execution_count": 6,
   "id": "4af2b98f-09f4-4159-8e36-f5fc2950bb30",
   "metadata": {},
   "outputs": [],
   "source": [
    "c_json = list(map(lambda x: x.replace('Bahamas, The', 'The Bahamas'), c_json))\n",
    "countries = list(map(lambda x: x.replace('Bahamas', 'The Bahamas'), countries))\n",
    "countries = list(map(lambda x: x.replace('Congo', 'Republic of the Congo'), countries))\n",
    "c_json = list(map(lambda x: x.replace('Congo, Republic of the', 'Republic of the Congo'), c_json))\n",
    "countries = list(map(lambda x: x.replace('Democratic Republic of Republic of the Congo', 'Democratic Republic of the Congo'), countries))\n",
    "c_json = list(map(lambda x: x.replace('Congo, Democratic Republic of the', 'Democratic Republic of the Congo'), c_json))\n",
    "countries = list(map(lambda x: x.replace('Timor', 'Timor-Leste'), countries))\n",
    "countries = list(map(lambda x: x.replace('Svalbard and Jan Mayen', 'Svalbard'), countries))\n",
    "countries = list(map(lambda x: x.replace('Czechia', 'Czech Republic'), countries))\n",
    "c_json = list(map(lambda x: x.replace('Korea, South', 'South Korea'), c_json))\n",
    "c_json = list(map(lambda x: x.replace('Korea, North', 'North Korea'), c_json))\n",
    "c_json = list(map(lambda x: x.replace('Gambia, The', 'The Gambia'), c_json))\n",
    "countries = list(map(lambda x: x.replace('Gambia', 'The Gambia'), countries))\n",
    "countries = list(map(lambda x: x.replace('Eswatini', 'Swaziland'), countries))\n",
    "countries = list(map(lambda x: x.replace('Micronesia (country)', 'Federated States of Micronesia'), countries))\n",
    "c_json = list(map(lambda x: x.replace('Micronesia, Federated States of', 'Federated States of Micronesia'), c_json))\n",
    "countries = list(map(lambda x: x.replace('North Macedonia', 'Macedonia'), countries))\n",
    "c_json = list(map(lambda x: x.replace('Burma', 'Myanmar'), c_json))"
   ]
  },
  {
   "cell_type": "markdown",
   "id": "dec14827-f97e-42fb-9bb7-af40f81931ca",
   "metadata": {},
   "source": [
    "### After replacement"
   ]
  },
  {
   "cell_type": "code",
   "execution_count": 7,
   "id": "0b7bf42d-b60e-4023-a014-547c5c08f96c",
   "metadata": {},
   "outputs": [
    {
     "name": "stdout",
     "output_type": "stream",
     "text": [
      "[]\n"
     ]
    }
   ],
   "source": [
    "print(sorted(list(set(countries).difference(c_json))))"
   ]
  },
  {
   "cell_type": "code",
   "execution_count": 8,
   "id": "9d603759-5fe7-4c88-920f-c2409d41694f",
   "metadata": {},
   "outputs": [
    {
     "name": "stdout",
     "output_type": "stream",
     "text": [
      "['Aland Islands', 'Anguilla', 'Aruba', 'Bermuda', 'Bouvet Island', 'British Indian Ocean Territory', 'British Virgin Islands', 'Cayman Islands', 'Christmas Island', 'Cocos (Keeling) Islands', 'Falkland Islands (Islas Malvinas)', 'Faroe Islands', 'French Guiana', 'French Polynesia', 'French Southern and Antarctic Lands', 'Gibraltar', 'Greenland', 'Guadeloupe', 'Guam', 'Guernsey', 'Heard Island and McDonald Islands', 'Holy See (Vatican City)', 'Hong Kong', 'Isle of Man', 'Jersey', 'Macau', 'Martinique', 'Mayotte', 'Monaco', 'Montserrat', 'Netherlands Antilles', 'New Caledonia', 'Norfolk Island', 'Northern Mariana Islands', 'Palestine', 'Pitcairn Islands', 'Puerto Rico', 'Reunion', 'Saint Barthelemy', 'Saint Helena', 'Saint Martin', 'Saint Pierre and Miquelon', 'San Marino', 'South Georgia South Sandwich Islands', 'Svalbard', 'Taiwan', 'Tokelau', 'Turks and Caicos Islands', 'Virgin Islands', 'Wallis and Futuna', 'Western Sahara']\n"
     ]
    }
   ],
   "source": [
    "print(sorted(list(set(c_json).difference(countries))))"
   ]
  },
  {
   "cell_type": "code",
   "execution_count": null,
   "id": "2898b0cc-c9cd-49d0-b207-26aeaac0c533",
   "metadata": {},
   "outputs": [],
   "source": []
  }
 ],
 "metadata": {
  "kernelspec": {
   "display_name": "Python 3 (ipykernel)",
   "language": "python",
   "name": "python3"
  },
  "language_info": {
   "codemirror_mode": {
    "name": "ipython",
    "version": 3
   },
   "file_extension": ".py",
   "mimetype": "text/x-python",
   "name": "python",
   "nbconvert_exporter": "python",
   "pygments_lexer": "ipython3",
   "version": "3.9.13"
  }
 },
 "nbformat": 4,
 "nbformat_minor": 5
}
